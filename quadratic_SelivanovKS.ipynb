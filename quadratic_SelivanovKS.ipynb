{
 "cells": [
  {
   "cell_type": "code",
   "execution_count": 18,
   "metadata": {},
   "outputs": [],
   "source": [
    "def solve_quad(b, c):\n",
    "    D = b ** 2 - 4*c\n",
    "    if D >= 0:\n",
    "        x1 = -b/2 + D ** (1/2) / 2\n",
    "        x2 = -b/2 - D ** (1/2) / 2\n",
    "    else:\n",
    "        a1 = -b/2\n",
    "        a2 = (-D) ** (1/2) / 2\n",
    "        x1 = complex(a1, a2)\n",
    "        x2 = complex(a1, -a2)\n",
    "    \n",
    "    return x1, x2"
   ]
  },
  {
   "cell_type": "code",
   "execution_count": 19,
   "metadata": {},
   "outputs": [],
   "source": [
    "from numpy import allclose"
   ]
  },
  {
   "cell_type": "code",
   "execution_count": 20,
   "metadata": {},
   "outputs": [],
   "source": [
    "variants = [{'b': 4.0, 'c': 3.0},\n",
    "            {'b': 2.0, 'c': 1.0},\n",
    "            {'b': 0.5, 'c': 4.0},\n",
    "            {'b': 1e10, 'c': 3.0},\n",
    "            {'b': -1e10, 'c': 4.0}]"
   ]
  },
  {
   "cell_type": "code",
   "execution_count": 21,
   "metadata": {},
   "outputs": [
    {
     "name": "stdout",
     "output_type": "stream",
     "text": [
      "-1.0 -3.0\n",
      "True\n",
      "-1.0 -1.0\n",
      "True\n",
      "(-0.25+1.984313483298443j) (-0.25-1.984313483298443j)\n",
      "True\n",
      "0.0 -10000000000.0\n",
      "False\n",
      "10000000000.0 0.0\n",
      "False\n"
     ]
    }
   ],
   "source": [
    "for var in variants:\n",
    "    x1, x2 = solve_quad(**var)\n",
    "    print(x1, x2)\n",
    "    print(allclose(x1*x2, var['c']))"
   ]
  },
  {
   "cell_type": "code",
   "execution_count": 26,
   "metadata": {},
   "outputs": [
    {
     "data": {
      "image/png": "[encoded data removed]",
      "text/plain": [
       "<Figure size 432x288 with 1 Axes>"
      ]
     },
     "metadata": {
      "needs_background": "light"
     },
     "output_type": "display_data"
    }
   ],
   "source": [
    "import matplotlib.pyplot as plt\n",
    "import numpy as np\n",
    " \n",
    "k1, k2, k3 = 1, 1e10, 3\n",
    "\n",
    "freq = 100  # частота дискретизации типо\n",
    "a, b = -10, 10  # здесь ручками выставляем пределы по оси икс\n",
    "\n",
    "# квадратичная функция\n",
    "xi = np.linspace(a, b, freq)\n",
    "y = [k1 * t * t + k2 * t + k3 for t in xi]\n",
    "plt.plot(xi, y)\n",
    " \n",
    " \n",
    "plt.grid()\n",
    "plt.show()"
   ]
  },
  {
   "cell_type": "code",
   "execution_count": null,
   "metadata": {},
   "outputs": [],
   "source": []
  }
 ],
 "metadata": {
  "kernelspec": {
   "display_name": "Python 3",
   "language": "python",
   "name": "python3"
  },
  "language_info": {
   "codemirror_mode": {
    "name": "ipython",
    "version": 3
   },
   "file_extension": ".py",
   "mimetype": "text/x-python",
   "name": "python",
   "nbconvert_exporter": "python",
   "pygments_lexer": "ipython3",
   "version": "3.7.3"
  }
 },
 "nbformat": 4,
 "nbformat_minor": 2
}
